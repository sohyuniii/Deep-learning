{
 "cells": [
  {
   "cell_type": "markdown",
   "metadata": {},
   "source": [
    "# 뉴스 기사 분류: 다중 분류 문제"
   ]
  },
  {
   "cell_type": "code",
   "execution_count": 8,
   "metadata": {},
   "outputs": [],
   "source": [
    "import numpy as np\n",
    "import pandas as pd\n",
    "from collections import Counter\n",
    "from keras.datasets import reuters\n",
    "(train_data,train_labels), (test_data,test_labels) = reuters.load_data(num_words=10000)"
   ]
  },
  {
   "cell_type": "code",
   "execution_count": 11,
   "metadata": {},
   "outputs": [
    {
     "name": "stdout",
     "output_type": "stream",
     "text": [
      "train : (8982,)\n",
      "test : (2246,)\n",
      "number of class : 46\n"
     ]
    }
   ],
   "source": [
    "print('train :',train_data.shape)\n",
    "print('test :',test_data.shape)\n",
    "print('number of class :', len(np.unique(train_labels)))"
   ]
  },
  {
   "cell_type": "markdown",
   "metadata": {},
   "source": [
    "## Data"
   ]
  },
  {
   "cell_type": "code",
   "execution_count": 19,
   "metadata": {},
   "outputs": [],
   "source": [
    "def to_one_hot(df,ndim=10000) :\n",
    "    results = np.zeros((len(df),ndim))\n",
    "    for i,label in enumerate(df) :\n",
    "        results[i,label] = 1\n",
    "    return results"
   ]
  },
  {
   "cell_type": "code",
   "execution_count": 22,
   "metadata": {},
   "outputs": [],
   "source": [
    "one_hot_train_data = to_one_hot(train_data)\n",
    "one_hot_test_data = to_one_hot(test_data)"
   ]
  },
  {
   "cell_type": "code",
   "execution_count": 23,
   "metadata": {},
   "outputs": [],
   "source": [
    "from keras.utils.np_utils import to_categorical\n",
    "one_hot_train_labels = to_categorical(train_labels)\n",
    "one_hot_test_labels = to_categorical(test_labels)"
   ]
  },
  {
   "cell_type": "code",
   "execution_count": 24,
   "metadata": {},
   "outputs": [
    {
     "data": {
      "text/plain": [
       "array([ 3,  4,  3, ..., 25,  3, 25])"
      ]
     },
     "execution_count": 24,
     "metadata": {},
     "output_type": "execute_result"
    }
   ],
   "source": [
    "train_labels"
   ]
  },
  {
   "cell_type": "code",
   "execution_count": 25,
   "metadata": {},
   "outputs": [
    {
     "data": {
      "text/plain": [
       "array([[0., 0., 0., ..., 0., 0., 0.],\n",
       "       [0., 0., 0., ..., 0., 0., 0.],\n",
       "       [0., 0., 0., ..., 0., 0., 0.],\n",
       "       ...,\n",
       "       [0., 0., 0., ..., 0., 0., 0.],\n",
       "       [0., 0., 0., ..., 0., 0., 0.],\n",
       "       [0., 0., 0., ..., 0., 0., 0.]], dtype=float32)"
      ]
     },
     "execution_count": 25,
     "metadata": {},
     "output_type": "execute_result"
    }
   ],
   "source": [
    "one_hot_train"
   ]
  },
  {
   "cell_type": "markdown",
   "metadata": {},
   "source": [
    "## Modeling\n",
    "###### 마지막 Dense 층의 크기가 46, 벡터의 각 차원은 각기 다른 출력 클래스가 인코딩\n",
    "###### 마지막 층에 softmax 활성화 함수가 사용, 각 입력 샘플마다 46개의 출력 클래스에 대한 확률 분포를 출력. 즉, 46차원의 출력 벡터를 만들며 output[i]는 어떤 샘플이 클래스 i에 속할 확률. 46개의 값을 모두 더하면 1"
   ]
  },
  {
   "cell_type": "code",
   "execution_count": 27,
   "metadata": {},
   "outputs": [],
   "source": [
    "from keras import models,layers\n",
    "model = models.Sequential()\n",
    "model.add(layers.Dense(64,activation ='relu',input_shape=(10000,)))\n",
    "model.add(layers.Dense(64,activation ='relu'))\n",
    "model.add(layers.Dense(46,activation='softmax'))\n",
    "\n",
    "model.compile(optimizer='rmsprop',\n",
    "             loss='categorical_crossentropy',\n",
    "             metrics=['acc'])"
   ]
  },
  {
   "cell_type": "code",
   "execution_count": 28,
   "metadata": {},
   "outputs": [],
   "source": [
    "x_val = one_hot_train_data[:1000]\n",
    "x_train = one_hot_train_data[1000:]\n",
    "\n",
    "y_val = one_hot_train_labels[:1000]\n",
    "y_train = one_hot_train_labels[1000:]"
   ]
  },
  {
   "cell_type": "code",
   "execution_count": 29,
   "metadata": {},
   "outputs": [
    {
     "name": "stdout",
     "output_type": "stream",
     "text": [
      "Train on 7982 samples, validate on 1000 samples\n",
      "Epoch 1/20\n",
      "7982/7982 [==============================] - 1s 186us/step - loss: 2.4997 - acc: 0.4899 - val_loss: 1.6813 - val_acc: 0.6480\n",
      "Epoch 2/20\n",
      "7982/7982 [==============================] - 0s 59us/step - loss: 1.3915 - acc: 0.7038 - val_loss: 1.2790 - val_acc: 0.7190\n",
      "Epoch 3/20\n",
      "7982/7982 [==============================] - 0s 58us/step - loss: 1.0487 - acc: 0.7699 - val_loss: 1.1181 - val_acc: 0.7610\n",
      "Epoch 4/20\n",
      "7982/7982 [==============================] - 0s 58us/step - loss: 0.8246 - acc: 0.8282 - val_loss: 1.0217 - val_acc: 0.7760\n",
      "Epoch 5/20\n",
      "7982/7982 [==============================] - 0s 58us/step - loss: 0.6599 - acc: 0.8637 - val_loss: 0.9688 - val_acc: 0.7970\n",
      "Epoch 6/20\n",
      "7982/7982 [==============================] - 0s 59us/step - loss: 0.5254 - acc: 0.8931 - val_loss: 0.9200 - val_acc: 0.8090\n",
      "Epoch 7/20\n",
      "7982/7982 [==============================] - 0s 58us/step - loss: 0.4291 - acc: 0.9118 - val_loss: 0.9108 - val_acc: 0.8030\n",
      "Epoch 8/20\n",
      "7982/7982 [==============================] - 0s 59us/step - loss: 0.3497 - acc: 0.9277 - val_loss: 0.8937 - val_acc: 0.8150\n",
      "Epoch 9/20\n",
      "7982/7982 [==============================] - 0s 59us/step - loss: 0.2893 - acc: 0.9386 - val_loss: 0.9128 - val_acc: 0.8090\n",
      "Epoch 10/20\n",
      "7982/7982 [==============================] - 0s 59us/step - loss: 0.2450 - acc: 0.9453 - val_loss: 0.9114 - val_acc: 0.8100\n",
      "Epoch 11/20\n",
      "7982/7982 [==============================] - 0s 58us/step - loss: 0.2102 - acc: 0.9481 - val_loss: 0.9482 - val_acc: 0.8130\n",
      "Epoch 12/20\n",
      "7982/7982 [==============================] - 0s 58us/step - loss: 0.1878 - acc: 0.9528 - val_loss: 0.9613 - val_acc: 0.8040\n",
      "Epoch 13/20\n",
      "7982/7982 [==============================] - 0s 58us/step - loss: 0.1658 - acc: 0.9529 - val_loss: 0.9926 - val_acc: 0.8010\n",
      "Epoch 14/20\n",
      "7982/7982 [==============================] - 0s 58us/step - loss: 0.1532 - acc: 0.9550 - val_loss: 0.9772 - val_acc: 0.8050\n",
      "Epoch 15/20\n",
      "7982/7982 [==============================] - 0s 59us/step - loss: 0.1456 - acc: 0.9550 - val_loss: 1.0188 - val_acc: 0.7990\n",
      "Epoch 16/20\n",
      "7982/7982 [==============================] - 0s 58us/step - loss: 0.1326 - acc: 0.9554 - val_loss: 1.0390 - val_acc: 0.8000\n",
      "Epoch 17/20\n",
      "7982/7982 [==============================] - 0s 58us/step - loss: 0.1255 - acc: 0.9554 - val_loss: 1.0423 - val_acc: 0.7970\n",
      "Epoch 18/20\n",
      "7982/7982 [==============================] - 0s 59us/step - loss: 0.1170 - acc: 0.9560 - val_loss: 1.0367 - val_acc: 0.8150\n",
      "Epoch 19/20\n",
      "7982/7982 [==============================] - 0s 59us/step - loss: 0.1157 - acc: 0.9573 - val_loss: 1.0290 - val_acc: 0.8080\n",
      "Epoch 20/20\n",
      "7982/7982 [==============================] - 0s 59us/step - loss: 0.1136 - acc: 0.9582 - val_loss: 1.0496 - val_acc: 0.8030\n"
     ]
    }
   ],
   "source": [
    "history = model.fit(x_train,y_train,epochs=20,batch_size=512,validation_data=(x_val,y_val))"
   ]
  },
  {
   "cell_type": "code",
   "execution_count": 32,
   "metadata": {},
   "outputs": [
    {
     "data": {
      "text/plain": [
       "dict_keys(['acc', 'loss', 'val_loss', 'val_acc'])"
      ]
     },
     "execution_count": 32,
     "metadata": {},
     "output_type": "execute_result"
    }
   ],
   "source": [
    "history_dict = history.history\n",
    "history_dict.keys()"
   ]
  },
  {
   "cell_type": "code",
   "execution_count": 50,
   "metadata": {},
   "outputs": [
    {
     "data": {
      "text/plain": [
       "<matplotlib.legend.Legend at 0x7f57385b8400>"
      ]
     },
     "execution_count": 50,
     "metadata": {},
     "output_type": "execute_result"
    },
    {
     "data": {
      "image/png": "[encoded data removed]",
      "text/plain": [
       "<Figure size 864x216 with 2 Axes>"
      ]
     },
     "metadata": {
      "needs_background": "light"
     },
     "output_type": "display_data"
    }
   ],
   "source": [
    "import matplotlib.pyplot as plt\n",
    "plt.figure(figsize=(12,3))\n",
    "epochs = range(1,len(loss)+1)\n",
    "\n",
    "loss = history_dict['loss']\n",
    "val_loss = history_dict['val_loss']\n",
    "acc = history_dict['acc']\n",
    "val_acc = history_dict['val_acc']\n",
    "\n",
    "plt.subplot(1,2,1)\n",
    "plt.plot(epochs,loss,'bo',label='training')\n",
    "plt.plot(epochs,val_loss,'b',label='validation')\n",
    "plt.xlabel('epochs') \n",
    "plt.title('Training and Validation Loss')\n",
    "plt.legend()\n",
    "\n",
    "plt.subplot(1,2,2)\n",
    "plt.plot(epochs,acc,'bo',label='training')\n",
    "plt.plot(epochs,val_acc,'b',label='validation')\n",
    "plt.xlabel('epochs') \n",
    "plt.title('Training and Validation Acuracy')\n",
    "plt.legend()"
   ]
  },
  {
   "cell_type": "code",
   "execution_count": 57,
   "metadata": {},
   "outputs": [
    {
     "name": "stdout",
     "output_type": "stream",
     "text": [
      "Train on 7982 samples, validate on 1000 samples\n",
      "Epoch 1/9\n",
      "7982/7982 [==============================] - 0s 47us/step - loss: 0.0908 - acc: 0.9563 - val_loss: 1.2435 - val_acc: 0.8050\n",
      "Epoch 2/9\n",
      "7982/7982 [==============================] - 0s 46us/step - loss: 0.0889 - acc: 0.9582 - val_loss: 1.2136 - val_acc: 0.7990\n",
      "Epoch 3/9\n",
      "7982/7982 [==============================] - 0s 47us/step - loss: 0.0823 - acc: 0.9617 - val_loss: 1.2226 - val_acc: 0.8020\n",
      "Epoch 4/9\n",
      "7982/7982 [==============================] - 0s 47us/step - loss: 0.0841 - acc: 0.9583 - val_loss: 1.2954 - val_acc: 0.7920\n",
      "Epoch 5/9\n",
      "7982/7982 [==============================] - 0s 47us/step - loss: 0.0834 - acc: 0.9587 - val_loss: 1.2718 - val_acc: 0.7930\n",
      "Epoch 6/9\n",
      "7982/7982 [==============================] - 0s 47us/step - loss: 0.0859 - acc: 0.9582 - val_loss: 1.2761 - val_acc: 0.7970\n",
      "Epoch 7/9\n",
      "7982/7982 [==============================] - 0s 47us/step - loss: 0.0839 - acc: 0.9593 - val_loss: 1.2590 - val_acc: 0.7980\n",
      "Epoch 8/9\n",
      "7982/7982 [==============================] - 0s 47us/step - loss: 0.0843 - acc: 0.9574 - val_loss: 1.3242 - val_acc: 0.7800\n",
      "Epoch 9/9\n",
      "7982/7982 [==============================] - 0s 47us/step - loss: 0.0809 - acc: 0.9595 - val_loss: 1.3248 - val_acc: 0.7890\n"
     ]
    }
   ],
   "source": [
    "history = model.fit(x_train,y_train,epochs=9,batch_size=512,validation_data=(x_val,y_val))"
   ]
  },
  {
   "cell_type": "code",
   "execution_count": 58,
   "metadata": {},
   "outputs": [
    {
     "name": "stdout",
     "output_type": "stream",
     "text": [
      "2246/2246 [==============================] - 0s 37us/step\n"
     ]
    },
    {
     "data": {
      "text/plain": [
       "[1.4927725921437238, 0.7742653606411398]"
      ]
     },
     "execution_count": 58,
     "metadata": {},
     "output_type": "execute_result"
    }
   ],
   "source": [
    "model.evaluate(one_hot_test_data,one_hot_test_labels)"
   ]
  },
  {
   "cell_type": "markdown",
   "metadata": {},
   "source": [
    "# Plus"
   ]
  },
  {
   "cell_type": "code",
   "execution_count": 59,
   "metadata": {},
   "outputs": [
    {
     "name": "stdout",
     "output_type": "stream",
     "text": [
      "Train on 7982 samples, validate on 1000 samples\n",
      "Epoch 1/9\n",
      "7982/7982 [==============================] - 1s 65us/step - loss: 2.3091 - acc: 0.5649 - val_loss: 1.4869 - val_acc: 0.6600\n",
      "Epoch 2/9\n",
      "7982/7982 [==============================] - 0s 42us/step - loss: 1.1707 - acc: 0.7444 - val_loss: 1.1619 - val_acc: 0.7450\n",
      "Epoch 3/9\n",
      "7982/7982 [==============================] - 0s 42us/step - loss: 0.8312 - acc: 0.8236 - val_loss: 1.0447 - val_acc: 0.7740\n",
      "Epoch 4/9\n",
      "7982/7982 [==============================] - 0s 42us/step - loss: 0.6169 - acc: 0.8705 - val_loss: 0.9497 - val_acc: 0.8030\n",
      "Epoch 5/9\n",
      "7982/7982 [==============================] - 0s 42us/step - loss: 0.4709 - acc: 0.9013 - val_loss: 0.9173 - val_acc: 0.8090\n",
      "Epoch 6/9\n",
      "7982/7982 [==============================] - 0s 42us/step - loss: 0.3571 - acc: 0.9277 - val_loss: 0.9148 - val_acc: 0.8160\n",
      "Epoch 7/9\n",
      "7982/7982 [==============================] - 0s 42us/step - loss: 0.2844 - acc: 0.9379 - val_loss: 0.8868 - val_acc: 0.8210\n",
      "Epoch 8/9\n",
      "7982/7982 [==============================] - 0s 42us/step - loss: 0.2349 - acc: 0.9455 - val_loss: 0.8891 - val_acc: 0.8170\n",
      "Epoch 9/9\n",
      "7982/7982 [==============================] - 0s 42us/step - loss: 0.1982 - acc: 0.9485 - val_loss: 0.9047 - val_acc: 0.8130\n",
      "2246/2246 [==============================] - 0s 40us/step\n"
     ]
    },
    {
     "data": {
      "text/plain": [
       "[0.9974409750499369, 0.7956366874974218]"
      ]
     },
     "execution_count": 59,
     "metadata": {},
     "output_type": "execute_result"
    }
   ],
   "source": [
    "model = models.Sequential()\n",
    "model.add(layers.Dense(128,activation ='relu',input_shape=(10000,)))\n",
    "model.add(layers.Dense(64,activation ='relu'))\n",
    "model.add(layers.Dense(46,activation='softmax'))\n",
    "\n",
    "model.compile(optimizer='rmsprop',\n",
    "             loss='categorical_crossentropy',\n",
    "             metrics=['acc'])\n",
    "\n",
    "history = model.fit(x_train,y_train,epochs=9,batch_size=512,validation_data=(x_val,y_val))\n",
    "model.evaluate(one_hot_test_data,one_hot_test_labels)"
   ]
  },
  {
   "cell_type": "code",
   "execution_count": 60,
   "metadata": {},
   "outputs": [
    {
     "name": "stdout",
     "output_type": "stream",
     "text": [
      "Train on 7982 samples, validate on 1000 samples\n",
      "Epoch 1/9\n",
      "7982/7982 [==============================] - 0s 63us/step - loss: 2.1765 - acc: 0.5675 - val_loss: 1.4044 - val_acc: 0.6720\n",
      "Epoch 2/9\n",
      "7982/7982 [==============================] - 0s 42us/step - loss: 1.1059 - acc: 0.7587 - val_loss: 1.1021 - val_acc: 0.7680\n",
      "Epoch 3/9\n",
      "7982/7982 [==============================] - 0s 41us/step - loss: 0.7822 - acc: 0.8289 - val_loss: 0.9821 - val_acc: 0.7880\n",
      "Epoch 4/9\n",
      "7982/7982 [==============================] - 0s 41us/step - loss: 0.5623 - acc: 0.8789 - val_loss: 1.0129 - val_acc: 0.7710\n",
      "Epoch 5/9\n",
      "7982/7982 [==============================] - 0s 41us/step - loss: 0.4237 - acc: 0.9084 - val_loss: 0.8892 - val_acc: 0.8080\n",
      "Epoch 6/9\n",
      "7982/7982 [==============================] - 0s 42us/step - loss: 0.3155 - acc: 0.9308 - val_loss: 0.9847 - val_acc: 0.7890\n",
      "Epoch 7/9\n",
      "7982/7982 [==============================] - 0s 41us/step - loss: 0.2582 - acc: 0.9419 - val_loss: 0.9460 - val_acc: 0.8010\n",
      "Epoch 8/9\n",
      "7982/7982 [==============================] - 0s 41us/step - loss: 0.2122 - acc: 0.9469 - val_loss: 0.9282 - val_acc: 0.8160\n",
      "Epoch 9/9\n",
      "7982/7982 [==============================] - 0s 42us/step - loss: 0.1867 - acc: 0.9514 - val_loss: 0.9525 - val_acc: 0.8210\n",
      "2246/2246 [==============================] - 0s 38us/step\n"
     ]
    },
    {
     "data": {
      "text/plain": [
       "[1.0494916424195042, 0.7858414960459524]"
      ]
     },
     "execution_count": 60,
     "metadata": {},
     "output_type": "execute_result"
    }
   ],
   "source": [
    "model = models.Sequential()\n",
    "model.add(layers.Dense(128,activation ='relu',input_shape=(10000,)))\n",
    "model.add(layers.Dense(128,activation ='relu'))\n",
    "model.add(layers.Dense(46,activation='softmax'))\n",
    "\n",
    "model.compile(optimizer='rmsprop',\n",
    "             loss='categorical_crossentropy',\n",
    "             metrics=['acc'])\n",
    "\n",
    "history = model.fit(x_train,y_train,epochs=9,batch_size=512,validation_data=(x_val,y_val))\n",
    "model.evaluate(one_hot_test_data,one_hot_test_labels)"
   ]
  },
  {
   "cell_type": "code",
   "execution_count": null,
   "metadata": {},
   "outputs": [],
   "source": []
  }
 ],
 "metadata": {
  "kernelspec": {
   "display_name": "Python 3",
   "language": "python",
   "name": "python3"
  },
  "language_info": {
   "codemirror_mode": {
    "name": "ipython",
    "version": 3
   },
   "file_extension": ".py",
   "mimetype": "text/x-python",
   "name": "python",
   "nbconvert_exporter": "python",
   "pygments_lexer": "ipython3",
   "version": "3.5.2"
  }
 },
 "nbformat": 4,
 "nbformat_minor": 2
}
